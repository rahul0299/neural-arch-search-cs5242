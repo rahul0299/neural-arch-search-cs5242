{
 "cells": [
  {
   "metadata": {},
   "cell_type": "markdown",
   "source": [
    "Add stuff like installing datasets and stuf before running our app <br>\n",
    "Also add different ways to run the process (Like run with completely new RNN weights, use pre-existing weights etc.)"
   ],
   "id": "ff54f29713a3e4b9"
  },
  {
   "metadata": {
    "ExecuteTime": {
     "end_time": "2025-03-20T09:46:22.505898Z",
     "start_time": "2025-03-20T09:46:22.493898Z"
    }
   },
   "cell_type": "code",
   "source": [
    "import torch\n",
    "from torch import nn\n",
    "from ChildNetworkMLP import set_data_params,ChildModel,build_model_from_encoding,train_model\n",
    "\n",
    "from Controller import RNNController,generate_sequence,VOCAB_SIZE\n",
    "from torch.utils.data import DataLoader\n"
   ],
   "id": "969787a31f867052",
   "outputs": [],
   "execution_count": 20
  },
  {
   "metadata": {
    "ExecuteTime": {
     "end_time": "2025-03-20T09:42:20.181649Z",
     "start_time": "2025-03-20T09:42:20.165477Z"
    }
   },
   "cell_type": "code",
   "source": "device = torch.device(\"cuda\" if torch.cuda.is_available() else \"cpu\")",
   "id": "5eef567dc37acfb7",
   "outputs": [],
   "execution_count": 7
  },
  {
   "metadata": {
    "ExecuteTime": {
     "end_time": "2025-03-20T09:42:20.307101Z",
     "start_time": "2025-03-20T09:42:20.293321Z"
    }
   },
   "cell_type": "code",
   "source": [
    "from utils import check_cifar_dataset_exists\n",
    "data_path=check_cifar_dataset_exists()"
   ],
   "id": "c79a4738a2718ef2",
   "outputs": [],
   "execution_count": 8
  },
  {
   "metadata": {
    "ExecuteTime": {
     "end_time": "2025-03-20T09:42:20.963337Z",
     "start_time": "2025-03-20T09:42:20.323104Z"
    }
   },
   "cell_type": "code",
   "source": [
    "data=torch.load(data_path+'cifar/train_data.pt')\n",
    "label=torch.load(data_path+'cifar/train_label.pt')"
   ],
   "id": "9e0c1c75342106c9",
   "outputs": [
    {
     "name": "stderr",
     "output_type": "stream",
     "text": [
      "C:\\Users\\vaibh\\AppData\\Local\\Temp\\ipykernel_10304\\4193000220.py:1: FutureWarning: You are using `torch.load` with `weights_only=False` (the current default value), which uses the default pickle module implicitly. It is possible to construct malicious pickle data which will execute arbitrary code during unpickling (See https://github.com/pytorch/pytorch/blob/main/SECURITY.md#untrusted-models for more details). In a future release, the default value for `weights_only` will be flipped to `True`. This limits the functions that could be executed during unpickling. Arbitrary objects will no longer be allowed to be loaded via this mode unless they are explicitly allowlisted by the user via `torch.serialization.add_safe_globals`. We recommend you start setting `weights_only=True` for any use case where you don't have full control of the loaded file. Please open an issue on GitHub for any issues related to this experimental feature.\n",
      "  data=torch.load(data_path+'cifar/train_data.pt')\n",
      "C:\\Users\\vaibh\\AppData\\Local\\Temp\\ipykernel_10304\\4193000220.py:2: FutureWarning: You are using `torch.load` with `weights_only=False` (the current default value), which uses the default pickle module implicitly. It is possible to construct malicious pickle data which will execute arbitrary code during unpickling (See https://github.com/pytorch/pytorch/blob/main/SECURITY.md#untrusted-models for more details). In a future release, the default value for `weights_only` will be flipped to `True`. This limits the functions that could be executed during unpickling. Arbitrary objects will no longer be allowed to be loaded via this mode unless they are explicitly allowlisted by the user via `torch.serialization.add_safe_globals`. We recommend you start setting `weights_only=True` for any use case where you don't have full control of the loaded file. Please open an issue on GitHub for any issues related to this experimental feature.\n",
      "  label=torch.load(data_path+'cifar/train_label.pt')\n"
     ]
    }
   ],
   "execution_count": 9
  },
  {
   "metadata": {
    "ExecuteTime": {
     "end_time": "2025-03-20T09:42:21.010704Z",
     "start_time": "2025-03-20T09:42:20.998404Z"
    }
   },
   "cell_type": "code",
   "source": [
    "input_dim = data[0].view(1,-1).size()[1]\n",
    "output_dim = torch.max(label).item()+1\n",
    "\n",
    "print(input_dim)\n",
    "print(output_dim)"
   ],
   "id": "2a12783d0aed21f6",
   "outputs": [
    {
     "name": "stdout",
     "output_type": "stream",
     "text": [
      "3072\n",
      "10\n"
     ]
    }
   ],
   "execution_count": 10
  },
  {
   "metadata": {
    "ExecuteTime": {
     "end_time": "2025-03-20T09:42:21.119298Z",
     "start_time": "2025-03-20T09:42:21.101508Z"
    }
   },
   "cell_type": "code",
   "source": "controllerModel = RNNController(VOCAB_SIZE)",
   "id": "78018c2a04e8eec6",
   "outputs": [],
   "execution_count": 11
  },
  {
   "metadata": {
    "ExecuteTime": {
     "end_time": "2025-03-20T09:42:21.180822Z",
     "start_time": "2025-03-20T09:42:21.156289Z"
    }
   },
   "cell_type": "code",
   "source": [
    "model_encoding = generate_sequence(controllerModel)\n",
    "\n",
    "model_encoding"
   ],
   "id": "cc6831389235eb12",
   "outputs": [
    {
     "data": {
      "text/plain": [
       "['START', '4', '6', '6', '5', '9', 'END']"
      ]
     },
     "execution_count": 12,
     "metadata": {},
     "output_type": "execute_result"
    }
   ],
   "execution_count": 12
  },
  {
   "metadata": {
    "ExecuteTime": {
     "end_time": "2025-03-20T09:42:21.304792Z",
     "start_time": "2025-03-20T09:42:21.286867Z"
    }
   },
   "cell_type": "code",
   "source": "# TODO: Sanity checks before passing to generate child network",
   "id": "f476f8ff1f8dc8f7",
   "outputs": [],
   "execution_count": 13
  },
  {
   "metadata": {
    "ExecuteTime": {
     "end_time": "2025-03-20T09:42:21.396834Z",
     "start_time": "2025-03-20T09:42:21.383315Z"
    }
   },
   "cell_type": "code",
   "source": "set_data_params(input_dim,output_dim)",
   "id": "1c6e763b0215d136",
   "outputs": [],
   "execution_count": 14
  },
  {
   "metadata": {
    "ExecuteTime": {
     "end_time": "2025-03-20T09:42:32.174066Z",
     "start_time": "2025-03-20T09:42:32.153595Z"
    }
   },
   "cell_type": "code",
   "source": "childModel = ChildModel(model_encoding)",
   "id": "504e97ec5d2bcd55",
   "outputs": [
    {
     "name": "stdout",
     "output_type": "stream",
     "text": [
      "3072\n"
     ]
    }
   ],
   "execution_count": 15
  },
  {
   "metadata": {
    "ExecuteTime": {
     "end_time": "2025-03-20T09:42:35.434431Z",
     "start_time": "2025-03-20T09:42:35.411406Z"
    }
   },
   "cell_type": "code",
   "source": "childModel.state_dict()",
   "id": "8ff9d311ec1e7aee",
   "outputs": [
    {
     "data": {
      "text/plain": [
       "OrderedDict([('model.0.weight',\n",
       "              tensor([[-3.2630e-05,  7.9310e-03, -9.2707e-03,  ...,  9.4738e-03,\n",
       "                       -8.5941e-03, -8.5626e-03],\n",
       "                      [-1.7861e-02, -1.7127e-02, -9.2436e-03,  ..., -8.0382e-03,\n",
       "                       -1.4878e-02,  1.1514e-02],\n",
       "                      [-1.2221e-03,  6.7321e-04, -1.0859e-02,  ...,  6.0114e-04,\n",
       "                       -1.7120e-02,  3.5651e-03],\n",
       "                      [-1.6501e-02,  5.4949e-03,  1.5598e-02,  ..., -1.3396e-02,\n",
       "                       -1.2899e-02, -1.5286e-02]])),\n",
       "             ('model.0.bias', tensor([ 0.0116, -0.0151,  0.0024,  0.0158])),\n",
       "             ('model.2.weight',\n",
       "              tensor([[-0.0077,  0.4005,  0.3747,  0.2474],\n",
       "                      [ 0.4000,  0.2943,  0.0352, -0.0277],\n",
       "                      [ 0.3987,  0.2512,  0.3546,  0.1762],\n",
       "                      [-0.1102,  0.4543,  0.2596,  0.3583],\n",
       "                      [ 0.1932, -0.0447,  0.3401, -0.0728],\n",
       "                      [-0.2086,  0.3737, -0.4191,  0.2711]])),\n",
       "             ('model.2.bias',\n",
       "              tensor([ 0.1324, -0.3676, -0.4178,  0.3092,  0.2450,  0.3267])),\n",
       "             ('model.4.weight',\n",
       "              tensor([[-0.0905, -0.2390, -0.0977, -0.3280,  0.3469, -0.0786],\n",
       "                      [-0.1145,  0.3942,  0.0327,  0.3669, -0.0442, -0.3102],\n",
       "                      [ 0.1867, -0.3928, -0.3245,  0.2786,  0.1653, -0.0769],\n",
       "                      [-0.0125, -0.3311, -0.1467,  0.0240, -0.1441, -0.1642],\n",
       "                      [ 0.3650,  0.0210, -0.2380, -0.2577, -0.2481, -0.3714],\n",
       "                      [ 0.2375, -0.1883, -0.2887, -0.3899, -0.0578,  0.1366]])),\n",
       "             ('model.4.bias',\n",
       "              tensor([ 0.2550,  0.3877,  0.3347, -0.1602,  0.1992, -0.2993])),\n",
       "             ('model.6.weight',\n",
       "              tensor([[-0.1483,  0.0557, -0.2597, -0.0859, -0.0397,  0.3244],\n",
       "                      [ 0.0090, -0.3145, -0.2289, -0.1175, -0.0557, -0.0131],\n",
       "                      [ 0.3908,  0.3084,  0.1795,  0.3316,  0.2605, -0.1033],\n",
       "                      [ 0.2133,  0.2494, -0.3446,  0.2219,  0.2857,  0.3530],\n",
       "                      [-0.0822, -0.2874, -0.2116,  0.1719,  0.1626, -0.1573]])),\n",
       "             ('model.6.bias',\n",
       "              tensor([ 0.2679,  0.3714,  0.1955,  0.2399, -0.2899])),\n",
       "             ('model.8.weight',\n",
       "              tensor([[ 0.1846, -0.1734,  0.2485,  0.4335, -0.3920],\n",
       "                      [-0.2383,  0.3064,  0.1372, -0.1604, -0.3537],\n",
       "                      [-0.1994,  0.1932, -0.3156, -0.0152,  0.3636],\n",
       "                      [ 0.4302,  0.1717, -0.2273, -0.0368,  0.4050],\n",
       "                      [-0.3471, -0.2114,  0.2411,  0.3629, -0.1952],\n",
       "                      [ 0.3782, -0.0066, -0.0253, -0.2828, -0.3761],\n",
       "                      [-0.3879,  0.4266, -0.1868,  0.1616, -0.3602],\n",
       "                      [ 0.4147, -0.2207, -0.0587,  0.3667, -0.1481],\n",
       "                      [-0.3211,  0.2222, -0.1020,  0.0356,  0.3884]])),\n",
       "             ('model.8.bias',\n",
       "              tensor([ 0.2301, -0.0316, -0.3186,  0.3552, -0.4390, -0.4237,  0.3741, -0.0156,\n",
       "                       0.2613])),\n",
       "             ('model.10.weight',\n",
       "              tensor([[-0.1165, -0.2842,  0.0349, -0.0139, -0.2591,  0.1262,  0.1376,  0.1528,\n",
       "                        0.2037],\n",
       "                      [ 0.0442,  0.0034,  0.0026, -0.1930, -0.1239, -0.0242,  0.1434, -0.3060,\n",
       "                        0.2351],\n",
       "                      [-0.2567, -0.3078,  0.0595,  0.1601, -0.1180, -0.1995, -0.2970, -0.1368,\n",
       "                       -0.2466],\n",
       "                      [ 0.1493, -0.0975,  0.2097, -0.0568, -0.0500,  0.1005,  0.2931,  0.0918,\n",
       "                        0.0464],\n",
       "                      [-0.2903, -0.0711,  0.1306,  0.0526, -0.1766,  0.2984,  0.1998, -0.3199,\n",
       "                        0.1807],\n",
       "                      [ 0.0138,  0.1562, -0.2778, -0.2662,  0.2336,  0.0708, -0.1310, -0.1820,\n",
       "                        0.0420],\n",
       "                      [-0.2104,  0.2759, -0.1173,  0.3142, -0.2943,  0.2961, -0.1540,  0.3045,\n",
       "                        0.0696],\n",
       "                      [ 0.1823, -0.1678,  0.1188, -0.2442,  0.2186, -0.0307,  0.1621, -0.1667,\n",
       "                        0.1124],\n",
       "                      [ 0.1313,  0.1794, -0.1611, -0.1072,  0.0231, -0.0290,  0.2286,  0.2616,\n",
       "                       -0.1940],\n",
       "                      [-0.3249, -0.2135,  0.2220, -0.2977,  0.2207, -0.1930, -0.1857, -0.2962,\n",
       "                       -0.3270]])),\n",
       "             ('model.10.bias',\n",
       "              tensor([ 0.0849, -0.2755, -0.0146,  0.0467, -0.1111,  0.0357,  0.0484,  0.2660,\n",
       "                      -0.2185, -0.1450]))])"
      ]
     },
     "execution_count": 16,
     "metadata": {},
     "output_type": "execute_result"
    }
   ],
   "execution_count": 16
  },
  {
   "metadata": {
    "ExecuteTime": {
     "end_time": "2025-03-20T09:44:03.512319Z",
     "start_time": "2025-03-20T09:44:02.132938Z"
    }
   },
   "cell_type": "code",
   "source": [
    "criterion = nn.CrossEntropyLoss() # Cross-entropy loss function\n",
    "optimizer = torch.optim.Adam(childModel.parameters(), lr=0.001) # 0.001 is the learning rate"
   ],
   "id": "866560e657bc531",
   "outputs": [],
   "execution_count": 19
  },
  {
   "metadata": {
    "ExecuteTime": {
     "end_time": "2025-03-20T09:47:34.195356Z",
     "start_time": "2025-03-20T09:47:34.173814Z"
    }
   },
   "cell_type": "code",
   "source": [
    "train_loader = DataLoader(data, batch_size=128, shuffle=True) \n",
    "\n"
   ],
   "id": "b923b73069cce6a0",
   "outputs": [
    {
     "data": {
      "text/plain": [
       "tensor([[[[0.2314, 0.1686, 0.1961,  ..., 0.6196, 0.5961, 0.5804],\n",
       "          [0.0627, 0.0000, 0.0706,  ..., 0.4824, 0.4667, 0.4784],\n",
       "          [0.0980, 0.0627, 0.1922,  ..., 0.4627, 0.4706, 0.4275],\n",
       "          ...,\n",
       "          [0.8157, 0.7882, 0.7765,  ..., 0.6275, 0.2196, 0.2078],\n",
       "          [0.7059, 0.6784, 0.7294,  ..., 0.7216, 0.3804, 0.3255],\n",
       "          [0.6941, 0.6588, 0.7020,  ..., 0.8471, 0.5922, 0.4824]],\n",
       "\n",
       "         [[0.2431, 0.1804, 0.1882,  ..., 0.5176, 0.4902, 0.4863],\n",
       "          [0.0784, 0.0000, 0.0314,  ..., 0.3451, 0.3255, 0.3412],\n",
       "          [0.0941, 0.0275, 0.1059,  ..., 0.3294, 0.3294, 0.2863],\n",
       "          ...,\n",
       "          [0.6667, 0.6000, 0.6314,  ..., 0.5216, 0.1216, 0.1333],\n",
       "          [0.5451, 0.4824, 0.5647,  ..., 0.5804, 0.2431, 0.2078],\n",
       "          [0.5647, 0.5059, 0.5569,  ..., 0.7216, 0.4627, 0.3608]],\n",
       "\n",
       "         [[0.2471, 0.1765, 0.1686,  ..., 0.4235, 0.4000, 0.4039],\n",
       "          [0.0784, 0.0000, 0.0000,  ..., 0.2157, 0.1961, 0.2235],\n",
       "          [0.0824, 0.0000, 0.0314,  ..., 0.1961, 0.1961, 0.1647],\n",
       "          ...,\n",
       "          [0.3765, 0.1333, 0.1020,  ..., 0.2745, 0.0275, 0.0784],\n",
       "          [0.3765, 0.1647, 0.1176,  ..., 0.3686, 0.1333, 0.1333],\n",
       "          [0.4549, 0.3686, 0.3412,  ..., 0.5490, 0.3294, 0.2824]]],\n",
       "\n",
       "\n",
       "        [[[0.6039, 0.4941, 0.4118,  ..., 0.3569, 0.3412, 0.3098],\n",
       "          [0.5490, 0.5686, 0.4902,  ..., 0.3765, 0.3020, 0.2784],\n",
       "          [0.5490, 0.5451, 0.4510,  ..., 0.3098, 0.2667, 0.2627],\n",
       "          ...,\n",
       "          [0.6863, 0.6118, 0.6039,  ..., 0.1647, 0.2392, 0.3647],\n",
       "          [0.6471, 0.6118, 0.6235,  ..., 0.4039, 0.4824, 0.5137],\n",
       "          [0.6392, 0.6196, 0.6392,  ..., 0.5608, 0.5608, 0.5608]],\n",
       "\n",
       "         [[0.6941, 0.5373, 0.4078,  ..., 0.3725, 0.3529, 0.3176],\n",
       "          [0.6275, 0.6000, 0.4902,  ..., 0.3882, 0.3137, 0.2863],\n",
       "          [0.6078, 0.5725, 0.4510,  ..., 0.3216, 0.2745, 0.2706],\n",
       "          ...,\n",
       "          [0.6549, 0.6039, 0.6275,  ..., 0.1333, 0.2078, 0.3255],\n",
       "          [0.6039, 0.5961, 0.6314,  ..., 0.3647, 0.4471, 0.4745],\n",
       "          [0.5804, 0.5804, 0.6118,  ..., 0.5216, 0.5255, 0.5216]],\n",
       "\n",
       "         [[0.7333, 0.5333, 0.3725,  ..., 0.2784, 0.2784, 0.2745],\n",
       "          [0.6627, 0.6039, 0.4627,  ..., 0.3059, 0.2431, 0.2392],\n",
       "          [0.6431, 0.5843, 0.4392,  ..., 0.2510, 0.2157, 0.2157],\n",
       "          ...,\n",
       "          [0.6510, 0.6275, 0.6667,  ..., 0.1412, 0.2235, 0.3569],\n",
       "          [0.5020, 0.5098, 0.5569,  ..., 0.3765, 0.4706, 0.5137],\n",
       "          [0.4706, 0.4784, 0.5216,  ..., 0.5451, 0.5569, 0.5647]]],\n",
       "\n",
       "\n",
       "        [[[1.0000, 0.9922, 0.9922,  ..., 0.9922, 0.9922, 0.9922],\n",
       "          [1.0000, 1.0000, 1.0000,  ..., 1.0000, 1.0000, 1.0000],\n",
       "          [1.0000, 0.9961, 0.9961,  ..., 0.9961, 0.9961, 0.9961],\n",
       "          ...,\n",
       "          [0.4431, 0.4353, 0.4118,  ..., 0.2824, 0.2824, 0.2824],\n",
       "          [0.4353, 0.4078, 0.3882,  ..., 0.2667, 0.2745, 0.3059],\n",
       "          [0.4157, 0.3882, 0.3725,  ..., 0.3059, 0.3098, 0.3137]],\n",
       "\n",
       "         [[1.0000, 0.9922, 0.9922,  ..., 0.9922, 0.9922, 0.9922],\n",
       "          [1.0000, 1.0000, 1.0000,  ..., 1.0000, 1.0000, 1.0000],\n",
       "          [1.0000, 0.9961, 0.9961,  ..., 0.9961, 0.9961, 0.9961],\n",
       "          ...,\n",
       "          [0.4706, 0.4627, 0.4392,  ..., 0.3176, 0.3137, 0.3137],\n",
       "          [0.4627, 0.4353, 0.4157,  ..., 0.2941, 0.2980, 0.3294],\n",
       "          [0.4431, 0.4157, 0.4000,  ..., 0.3333, 0.3333, 0.3373]],\n",
       "\n",
       "         [[1.0000, 0.9922, 0.9922,  ..., 0.9922, 0.9922, 0.9922],\n",
       "          [1.0000, 1.0000, 1.0000,  ..., 1.0000, 1.0000, 1.0000],\n",
       "          [1.0000, 0.9961, 0.9961,  ..., 0.9961, 0.9961, 0.9961],\n",
       "          ...,\n",
       "          [0.4392, 0.4353, 0.4157,  ..., 0.3137, 0.3098, 0.3098],\n",
       "          [0.4314, 0.4078, 0.3843,  ..., 0.2863, 0.2941, 0.3216],\n",
       "          [0.4118, 0.3843, 0.3686,  ..., 0.3255, 0.3255, 0.3294]]],\n",
       "\n",
       "\n",
       "        ...,\n",
       "\n",
       "\n",
       "        [[[0.1373, 0.1569, 0.1647,  ..., 0.3882, 0.3098, 0.3490],\n",
       "          [0.2235, 0.1725, 0.1961,  ..., 0.6118, 0.5529, 0.4549],\n",
       "          [0.3843, 0.2510, 0.2706,  ..., 0.7373, 0.4667, 0.2392],\n",
       "          ...,\n",
       "          [0.2863, 0.2078, 0.2118,  ..., 0.0667, 0.0824, 0.1294],\n",
       "          [0.2392, 0.2157, 0.2235,  ..., 0.0941, 0.0667, 0.0275],\n",
       "          [0.1725, 0.1804, 0.1922,  ..., 0.1059, 0.0824, 0.0471]],\n",
       "\n",
       "         [[0.6980, 0.6902, 0.6902,  ..., 0.6941, 0.5765, 0.5804],\n",
       "          [0.7137, 0.7216, 0.7176,  ..., 0.7137, 0.6941, 0.5843],\n",
       "          [0.7725, 0.7412, 0.7529,  ..., 0.7647, 0.5294, 0.3098],\n",
       "          ...,\n",
       "          [0.3098, 0.2471, 0.2667,  ..., 0.1569, 0.1412, 0.1882],\n",
       "          [0.2667, 0.2745, 0.3098,  ..., 0.1882, 0.1373, 0.0902],\n",
       "          [0.2196, 0.2588, 0.3020,  ..., 0.2039, 0.1686, 0.1216]],\n",
       "\n",
       "         [[0.9216, 0.9373, 0.9451,  ..., 0.8588, 0.7725, 0.7412],\n",
       "          [0.9176, 0.9804, 0.9412,  ..., 0.7843, 0.8078, 0.6863],\n",
       "          [0.9294, 0.9882, 0.9608,  ..., 0.8078, 0.5765, 0.3529],\n",
       "          ...,\n",
       "          [0.3020, 0.2667, 0.3137,  ..., 0.2510, 0.2000, 0.1922],\n",
       "          [0.2941, 0.3373, 0.4039,  ..., 0.2824, 0.2078, 0.1255],\n",
       "          [0.2863, 0.3451, 0.4118,  ..., 0.3020, 0.2588, 0.1961]]],\n",
       "\n",
       "\n",
       "        [[[0.7412, 0.7294, 0.7255,  ..., 0.6863, 0.6745, 0.6627],\n",
       "          [0.7608, 0.7490, 0.7451,  ..., 0.6784, 0.6706, 0.6549],\n",
       "          [0.8157, 0.8039, 0.8000,  ..., 0.6863, 0.6745, 0.6627],\n",
       "          ...,\n",
       "          [0.8118, 0.7961, 0.7961,  ..., 0.5294, 0.6353, 0.6588],\n",
       "          [0.7765, 0.7412, 0.7059,  ..., 0.6980, 0.6863, 0.6863],\n",
       "          [0.7765, 0.7412, 0.6980,  ..., 0.7647, 0.7686, 0.7647]],\n",
       "\n",
       "         [[0.8275, 0.8157, 0.8118,  ..., 0.7647, 0.7608, 0.7608],\n",
       "          [0.8235, 0.8118, 0.8078,  ..., 0.7529, 0.7490, 0.7451],\n",
       "          [0.8588, 0.8471, 0.8431,  ..., 0.7490, 0.7451, 0.7490],\n",
       "          ...,\n",
       "          [0.7804, 0.7647, 0.7686,  ..., 0.5176, 0.6196, 0.6392],\n",
       "          [0.7451, 0.7098, 0.6745,  ..., 0.6706, 0.6627, 0.6627],\n",
       "          [0.7412, 0.7098, 0.6667,  ..., 0.7216, 0.7412, 0.7451]],\n",
       "\n",
       "         [[0.9412, 0.9255, 0.9216,  ..., 0.8784, 0.8706, 0.8627],\n",
       "          [0.9373, 0.9255, 0.9216,  ..., 0.8627, 0.8549, 0.8471],\n",
       "          [0.9569, 0.9412, 0.9373,  ..., 0.8510, 0.8471, 0.8431],\n",
       "          ...,\n",
       "          [0.7098, 0.6863, 0.6784,  ..., 0.4980, 0.5882, 0.5922],\n",
       "          [0.6667, 0.6235, 0.5765,  ..., 0.6275, 0.6118, 0.6039],\n",
       "          [0.6784, 0.6353, 0.5843,  ..., 0.6627, 0.6706, 0.6706]]],\n",
       "\n",
       "\n",
       "        [[[0.8980, 0.9255, 0.9176,  ..., 0.8510, 0.8667, 0.8706],\n",
       "          [0.8706, 0.9373, 0.9137,  ..., 0.8745, 0.8902, 0.8235],\n",
       "          [0.8353, 0.9176, 0.9059,  ..., 0.8627, 0.8627, 0.7922],\n",
       "          ...,\n",
       "          [0.5882, 0.5490, 0.5176,  ..., 0.8784, 0.9020, 0.9451],\n",
       "          [0.5373, 0.5098, 0.4902,  ..., 0.7098, 0.7922, 0.8314],\n",
       "          [0.4784, 0.4627, 0.4706,  ..., 0.7020, 0.6431, 0.6392]],\n",
       "\n",
       "         [[0.8980, 0.9294, 0.9255,  ..., 0.8588, 0.8745, 0.8745],\n",
       "          [0.8667, 0.9373, 0.9176,  ..., 0.8745, 0.8941, 0.8275],\n",
       "          [0.8078, 0.9098, 0.9137,  ..., 0.8627, 0.8588, 0.7961],\n",
       "          ...,\n",
       "          [0.5608, 0.5294, 0.4980,  ..., 0.8706, 0.8941, 0.9451],\n",
       "          [0.5176, 0.4980, 0.4745,  ..., 0.7059, 0.7882, 0.8275],\n",
       "          [0.4667, 0.4549, 0.4549,  ..., 0.6941, 0.6431, 0.6392]],\n",
       "\n",
       "         [[0.9373, 0.9686, 0.9686,  ..., 0.9137, 0.9176, 0.9137],\n",
       "          [0.8980, 0.9765, 0.9647,  ..., 0.9255, 0.9333, 0.8627],\n",
       "          [0.8275, 0.9373, 0.9569,  ..., 0.9098, 0.9098, 0.8431],\n",
       "          ...,\n",
       "          [0.5294, 0.4980, 0.4706,  ..., 0.8549, 0.8824, 0.9333],\n",
       "          [0.4941, 0.4706, 0.4510,  ..., 0.6980, 0.7765, 0.8118],\n",
       "          [0.4471, 0.4314, 0.4353,  ..., 0.6784, 0.6353, 0.6314]]]])"
      ]
     },
     "execution_count": 24,
     "metadata": {},
     "output_type": "execute_result"
    }
   ],
   "execution_count": 24
  },
  {
   "metadata": {
    "ExecuteTime": {
     "end_time": "2025-03-20T09:46:41.729387Z",
     "start_time": "2025-03-20T09:46:41.439449Z"
    }
   },
   "cell_type": "code",
   "source": [
    "train_loss, train_time = train_model(childModel, train_loader, criterion, optimizer, device)\n",
    "\n",
    "print(train_loss, train_time)"
   ],
   "id": "5d051516312629ee",
   "outputs": [
    {
     "ename": "ValueError",
     "evalue": "too many values to unpack (expected 2)",
     "output_type": "error",
     "traceback": [
      "\u001B[1;31m---------------------------------------------------------------------------\u001B[0m",
      "\u001B[1;31mValueError\u001B[0m                                Traceback (most recent call last)",
      "Cell \u001B[1;32mIn[22], line 1\u001B[0m\n\u001B[1;32m----> 1\u001B[0m train_loss, train_time \u001B[38;5;241m=\u001B[39m \u001B[43mtrain_model\u001B[49m\u001B[43m(\u001B[49m\u001B[43mchildModel\u001B[49m\u001B[43m,\u001B[49m\u001B[43m \u001B[49m\u001B[43mtrain_loader\u001B[49m\u001B[43m,\u001B[49m\u001B[43m \u001B[49m\u001B[43mcriterion\u001B[49m\u001B[43m,\u001B[49m\u001B[43m \u001B[49m\u001B[43moptimizer\u001B[49m\u001B[43m,\u001B[49m\u001B[43m \u001B[49m\u001B[43mdevice\u001B[49m\u001B[43m)\u001B[49m\n\u001B[0;32m      3\u001B[0m \u001B[38;5;28mprint\u001B[39m(train_loss, train_time)\n",
      "File \u001B[1;32m~\\IdeaProjects\\Python\\neural-arch-search-cs5242\\ChildNetworkMLP.py:59\u001B[0m, in \u001B[0;36mtrain_model\u001B[1;34m(model, train_loader, criterion, optimizer, device)\u001B[0m\n\u001B[0;32m     56\u001B[0m total_loss \u001B[38;5;241m=\u001B[39m \u001B[38;5;241m0\u001B[39m  \u001B[38;5;66;03m# Total loss of the model\u001B[39;00m\n\u001B[0;32m     57\u001B[0m start_time \u001B[38;5;241m=\u001B[39m time\u001B[38;5;241m.\u001B[39mtime()  \u001B[38;5;66;03m# Start time of the training\u001B[39;00m\n\u001B[1;32m---> 59\u001B[0m \u001B[38;5;28;01mfor\u001B[39;00m inputs, targets, \u001B[38;5;129;01min\u001B[39;00m train_loader:  \u001B[38;5;66;03m# Iterate over the training data\u001B[39;00m\n\u001B[0;32m     60\u001B[0m     inputs, targets \u001B[38;5;241m=\u001B[39m inputs\u001B[38;5;241m.\u001B[39mto(device), targets\u001B[38;5;241m.\u001B[39mto(device)  \u001B[38;5;66;03m# Move the inputs and targets to the device\u001B[39;00m\n\u001B[0;32m     61\u001B[0m     optimizer\u001B[38;5;241m.\u001B[39mzero_grad()  \u001B[38;5;66;03m# Zero the gradients\u001B[39;00m\n",
      "\u001B[1;31mValueError\u001B[0m: too many values to unpack (expected 2)"
     ]
    }
   ],
   "execution_count": 22
  }
 ],
 "metadata": {
  "kernelspec": {
   "display_name": "Python 3",
   "language": "python",
   "name": "python3"
  },
  "language_info": {
   "codemirror_mode": {
    "name": "ipython",
    "version": 2
   },
   "file_extension": ".py",
   "mimetype": "text/x-python",
   "name": "python",
   "nbconvert_exporter": "python",
   "pygments_lexer": "ipython2",
   "version": "2.7.6"
  }
 },
 "nbformat": 4,
 "nbformat_minor": 5
}
