{
 "cells": [
  {
   "metadata": {},
   "cell_type": "markdown",
   "source": [
    "Add stuff like installing datasets and stuf before running our app <br>\n",
    "Also add different ways to run the process (Like run with completely new RNN weights, use pre-existing weights etc.)"
   ],
   "id": "ff54f29713a3e4b9"
  },
  {
   "metadata": {
    "ExecuteTime": {
     "end_time": "2025-03-20T10:02:09.484254Z",
     "start_time": "2025-03-20T10:02:06.688574Z"
    }
   },
   "cell_type": "code",
   "source": [
    "import torch\n",
    "from torch import nn\n",
    "from ChildNetworkMLP import set_data_params, ChildModel, build_model_from_encoding, train_model, train_model_v2\n",
    "\n",
    "from Controller import RNNController, generate_sequence, VOCAB_SIZE\n",
    "from torch.utils.data import DataLoader\n"
   ],
   "id": "969787a31f867052",
   "outputs": [
    {
     "name": "stdout",
     "output_type": "stream",
     "text": [
      "['START', '10', 'END']\n"
     ]
    }
   ],
   "execution_count": 1
  },
  {
   "metadata": {
    "ExecuteTime": {
     "end_time": "2025-03-20T10:02:11.560967Z",
     "start_time": "2025-03-20T10:02:09.526767Z"
    }
   },
   "cell_type": "code",
   "source": [
    "device = torch.device(\"cuda\" if torch.cuda.is_available() else \"cpu\")\n",
    "device"
   ],
   "id": "5eef567dc37acfb7",
   "outputs": [
    {
     "data": {
      "text/plain": [
       "device(type='cuda')"
      ]
     },
     "execution_count": 2,
     "metadata": {},
     "output_type": "execute_result"
    }
   ],
   "execution_count": 2
  },
  {
   "metadata": {
    "ExecuteTime": {
     "end_time": "2025-03-20T10:02:13.832999Z",
     "start_time": "2025-03-20T10:02:11.890842Z"
    }
   },
   "cell_type": "code",
   "source": [
    "from utils import check_cifar_dataset_exists\n",
    "\n",
    "data_path = check_cifar_dataset_exists()"
   ],
   "id": "c79a4738a2718ef2",
   "outputs": [],
   "execution_count": 3
  },
  {
   "metadata": {
    "ExecuteTime": {
     "end_time": "2025-03-20T10:02:14.130847Z",
     "start_time": "2025-03-20T10:02:13.850817Z"
    }
   },
   "cell_type": "code",
   "source": [
    "data = torch.load(data_path + 'cifar/train_data.pt')\n",
    "label = torch.load(data_path + 'cifar/train_label.pt')"
   ],
   "id": "9e0c1c75342106c9",
   "outputs": [
    {
     "name": "stderr",
     "output_type": "stream",
     "text": [
      "C:\\Users\\vaibh\\AppData\\Local\\Temp\\ipykernel_13964\\442911236.py:1: FutureWarning: You are using `torch.load` with `weights_only=False` (the current default value), which uses the default pickle module implicitly. It is possible to construct malicious pickle data which will execute arbitrary code during unpickling (See https://github.com/pytorch/pytorch/blob/main/SECURITY.md#untrusted-models for more details). In a future release, the default value for `weights_only` will be flipped to `True`. This limits the functions that could be executed during unpickling. Arbitrary objects will no longer be allowed to be loaded via this mode unless they are explicitly allowlisted by the user via `torch.serialization.add_safe_globals`. We recommend you start setting `weights_only=True` for any use case where you don't have full control of the loaded file. Please open an issue on GitHub for any issues related to this experimental feature.\n",
      "  data = torch.load(data_path + 'cifar/train_data.pt')\n",
      "C:\\Users\\vaibh\\AppData\\Local\\Temp\\ipykernel_13964\\442911236.py:2: FutureWarning: You are using `torch.load` with `weights_only=False` (the current default value), which uses the default pickle module implicitly. It is possible to construct malicious pickle data which will execute arbitrary code during unpickling (See https://github.com/pytorch/pytorch/blob/main/SECURITY.md#untrusted-models for more details). In a future release, the default value for `weights_only` will be flipped to `True`. This limits the functions that could be executed during unpickling. Arbitrary objects will no longer be allowed to be loaded via this mode unless they are explicitly allowlisted by the user via `torch.serialization.add_safe_globals`. We recommend you start setting `weights_only=True` for any use case where you don't have full control of the loaded file. Please open an issue on GitHub for any issues related to this experimental feature.\n",
      "  label = torch.load(data_path + 'cifar/train_label.pt')\n"
     ]
    }
   ],
   "execution_count": 4
  },
  {
   "metadata": {
    "ExecuteTime": {
     "end_time": "2025-03-20T10:02:14.176676Z",
     "start_time": "2025-03-20T10:02:14.164945Z"
    }
   },
   "cell_type": "code",
   "source": [
    "input_dim = data[0].view(1, -1).size()[1]\n",
    "output_dim = torch.max(label).item() + 1\n",
    "\n",
    "print(input_dim)\n",
    "print(output_dim)"
   ],
   "id": "2a12783d0aed21f6",
   "outputs": [
    {
     "name": "stdout",
     "output_type": "stream",
     "text": [
      "3072\n",
      "10\n"
     ]
    }
   ],
   "execution_count": 5
  },
  {
   "metadata": {
    "ExecuteTime": {
     "end_time": "2025-03-20T10:02:14.222692Z",
     "start_time": "2025-03-20T10:02:14.213688Z"
    }
   },
   "cell_type": "code",
   "source": "controllerModel = RNNController(VOCAB_SIZE)",
   "id": "78018c2a04e8eec6",
   "outputs": [],
   "execution_count": 6
  },
  {
   "metadata": {
    "ExecuteTime": {
     "end_time": "2025-03-20T10:02:14.285450Z",
     "start_time": "2025-03-20T10:02:14.260705Z"
    }
   },
   "cell_type": "code",
   "source": [
    "model_encoding = generate_sequence(controllerModel)\n",
    "\n",
    "model_encoding"
   ],
   "id": "cc6831389235eb12",
   "outputs": [
    {
     "data": {
      "text/plain": [
       "['START', '7', 'START', 'END']"
      ]
     },
     "execution_count": 7,
     "metadata": {},
     "output_type": "execute_result"
    }
   ],
   "execution_count": 7
  },
  {
   "metadata": {
    "ExecuteTime": {
     "end_time": "2025-03-20T10:02:14.379197Z",
     "start_time": "2025-03-20T10:02:14.371990Z"
    }
   },
   "cell_type": "code",
   "source": "# TODO: Sanity checks before passing to generate child network",
   "id": "f476f8ff1f8dc8f7",
   "outputs": [],
   "execution_count": 8
  },
  {
   "metadata": {
    "ExecuteTime": {
     "end_time": "2025-03-20T10:02:14.425352Z",
     "start_time": "2025-03-20T10:02:14.412354Z"
    }
   },
   "cell_type": "code",
   "source": "set_data_params(input_dim, output_dim)",
   "id": "1c6e763b0215d136",
   "outputs": [],
   "execution_count": 9
  },
  {
   "metadata": {
    "ExecuteTime": {
     "end_time": "2025-03-20T10:02:14.471080Z",
     "start_time": "2025-03-20T10:02:14.459359Z"
    }
   },
   "cell_type": "code",
   "source": "childModel = ChildModel(model_encoding)",
   "id": "504e97ec5d2bcd55",
   "outputs": [
    {
     "name": "stdout",
     "output_type": "stream",
     "text": [
      "3072\n"
     ]
    }
   ],
   "execution_count": 10
  },
  {
   "metadata": {
    "ExecuteTime": {
     "end_time": "2025-03-20T10:02:14.579521Z",
     "start_time": "2025-03-20T10:02:14.556310Z"
    }
   },
   "cell_type": "code",
   "source": "childModel.state_dict()",
   "id": "8ff9d311ec1e7aee",
   "outputs": [
    {
     "data": {
      "text/plain": [
       "OrderedDict([('model.0.weight',\n",
       "              tensor([[ 0.0128,  0.0024,  0.0080,  ...,  0.0014,  0.0110,  0.0068],\n",
       "                      [-0.0020,  0.0179,  0.0164,  ..., -0.0076,  0.0027,  0.0058],\n",
       "                      [-0.0088, -0.0073, -0.0165,  ...,  0.0070, -0.0082, -0.0045],\n",
       "                      ...,\n",
       "                      [ 0.0103, -0.0086,  0.0155,  ..., -0.0089, -0.0103, -0.0159],\n",
       "                      [ 0.0179, -0.0004, -0.0053,  ...,  0.0042, -0.0137, -0.0080],\n",
       "                      [-0.0044,  0.0086, -0.0078,  ...,  0.0164, -0.0056, -0.0159]])),\n",
       "             ('model.0.bias',\n",
       "              tensor([ 0.0089, -0.0175, -0.0047,  0.0147, -0.0012, -0.0104, -0.0108])),\n",
       "             ('model.2.weight',\n",
       "              tensor([[ 0.1528, -0.2586,  0.3560,  0.2768, -0.3003,  0.1004, -0.1678],\n",
       "                      [ 0.2339, -0.1506,  0.1893,  0.2155,  0.1679,  0.2057, -0.2186],\n",
       "                      [-0.3616,  0.1429,  0.0563,  0.2454, -0.2683, -0.3736, -0.1503],\n",
       "                      [ 0.2496,  0.2719,  0.2473,  0.2156, -0.2426, -0.2141,  0.1649],\n",
       "                      [ 0.2843,  0.3647, -0.1386, -0.0203, -0.3043, -0.0980, -0.2993],\n",
       "                      [ 0.1751,  0.1427,  0.1594, -0.0093, -0.2397,  0.0043,  0.0643],\n",
       "                      [ 0.2314, -0.1634,  0.2985, -0.1707,  0.2590,  0.0776,  0.0963],\n",
       "                      [-0.1782,  0.1407, -0.2825, -0.3290,  0.1777, -0.1992, -0.2920],\n",
       "                      [-0.0055, -0.0632,  0.1894,  0.2706, -0.2824,  0.2399, -0.2731],\n",
       "                      [ 0.1407,  0.3151, -0.2712, -0.1049, -0.0375, -0.0667,  0.1657]])),\n",
       "             ('model.2.bias',\n",
       "              tensor([ 0.3188, -0.2842, -0.3137, -0.1437, -0.3586, -0.3109,  0.2478, -0.3318,\n",
       "                       0.3564,  0.3081]))])"
      ]
     },
     "execution_count": 11,
     "metadata": {},
     "output_type": "execute_result"
    }
   ],
   "execution_count": 11
  },
  {
   "metadata": {
    "ExecuteTime": {
     "end_time": "2025-03-20T10:02:15.836504Z",
     "start_time": "2025-03-20T10:02:14.656910Z"
    }
   },
   "cell_type": "code",
   "source": [
    "criterion = nn.CrossEntropyLoss()  # Cross-entropy loss function\n",
    "optimizer = torch.optim.Adam(childModel.parameters(), lr=0.001)  # 0.001 is the learning rate"
   ],
   "id": "866560e657bc531",
   "outputs": [],
   "execution_count": 12
  },
  {
   "metadata": {
    "ExecuteTime": {
     "end_time": "2025-03-20T10:02:15.884125Z",
     "start_time": "2025-03-20T10:02:15.871366Z"
    }
   },
   "cell_type": "code",
   "source": "train_loader = DataLoader(data, batch_size=128, shuffle=True)",
   "id": "b923b73069cce6a0",
   "outputs": [],
   "execution_count": 13
  },
  {
   "metadata": {
    "ExecuteTime": {
     "end_time": "2025-03-20T10:02:23.493338Z",
     "start_time": "2025-03-20T10:02:22.613606Z"
    }
   },
   "cell_type": "code",
   "source": [
    "train_loss, train_time = train_model_v2(childModel, data, label, criterion, optimizer, device)\n",
    "\n",
    "print(train_loss, train_time)"
   ],
   "id": "5d051516312629ee",
   "outputs": [
    {
     "name": "stdout",
     "output_type": "stream",
     "text": [
      "0.011106487312316895 0.8642220497131348\n"
     ]
    }
   ],
   "execution_count": 14
  }
 ],
 "metadata": {
  "kernelspec": {
   "display_name": "Python 3",
   "language": "python",
   "name": "python3"
  },
  "language_info": {
   "codemirror_mode": {
    "name": "ipython",
    "version": 2
   },
   "file_extension": ".py",
   "mimetype": "text/x-python",
   "name": "python",
   "nbconvert_exporter": "python",
   "pygments_lexer": "ipython2",
   "version": "2.7.6"
  }
 },
 "nbformat": 4,
 "nbformat_minor": 5
}
